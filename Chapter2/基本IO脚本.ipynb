{
 "cells": [
  {
   "cell_type": "markdown",
   "metadata": {},
   "source": [
    "# 2.1基本脚本\n",
    "## 2.1.1读/写图像文件\n",
    "imread()和imwrite()支持各种静态图像文件格式，一般系统都支持BMP格式，还可能支持PNG、JPEG和TIFF格式   \n",
    "通过二维Numpy数组创建一个黑色的正方形图像：cv2.cvtColor()"
   ]
  },
  {
   "cell_type": "code",
   "execution_count": 6,
   "metadata": {
    "collapsed": false
   },
   "outputs": [
    {
     "name": "stdout",
     "output_type": "stream",
     "text": [
      "(3, 3, 3)\n"
     ]
    },
    {
     "data": {
      "text/plain": [
       "array([[[0, 0, 0],\n",
       "        [0, 0, 0],\n",
       "        [0, 0, 0]],\n",
       "\n",
       "       [[0, 0, 0],\n",
       "        [0, 0, 0],\n",
       "        [0, 0, 0]],\n",
       "\n",
       "       [[0, 0, 0],\n",
       "        [0, 0, 0],\n",
       "        [0, 0, 0]]], dtype=uint8)"
      ]
     },
     "execution_count": 6,
     "metadata": {},
     "output_type": "execute_result"
    }
   ],
   "source": [
    "import numpy as np\n",
    "import cv2\n",
    "\n",
    "img = np.zeros((3,3), dtype=np.uint8)#每个像素由一个8位整数表示，每个像素值的范围是0~255\n",
    "img = cv2.cvtColor(img, cv2.COLOR_GRAY2RGB)#将图像转换为BGR格式,(HSV的色度值范围是0~180)\n",
    "print(img.shape)\n",
    "img"
   ]
  },
  {
   "cell_type": "markdown",
   "metadata": {},
   "source": [
    "把JPG格式转化成PNG格式：imread(),imwrite()   \n",
    "即使图片是灰度格式，imread()也会返回BGR格式的图像,无论是哪种模式，imread都会删除alpha通道   \n",
    "imread()函数的参数:   \n",
    "IMREAD_ANYCOLOR=4,IMREAD_ANYDEPTH=2,IMREAD_COLOR=1,IMREAD_GRAYSCALAR=0,IMREAD_LOAD_GDAL=8,IMREAD_UNCHANGED=-1   \n",
    "imwrite()函数要求图像格式是BGR或者灰度格式，每个通道有一定的位（bit），bmp要求每个通道8位，PNG要求每个通道16或8位\n"
   ]
  },
  {
   "cell_type": "code",
   "execution_count": 14,
   "metadata": {
    "collapsed": false
   },
   "outputs": [
    {
     "name": "stdout",
     "output_type": "stream",
     "text": [
      "(682, 1024, 3)\n"
     ]
    },
    {
     "data": {
      "text/plain": [
       "True"
      ]
     },
     "execution_count": 14,
     "metadata": {},
     "output_type": "execute_result"
    }
   ],
   "source": [
    "img1 = cv2.imread('input_image/turtle.jpg')#即使图片是\n",
    "print(img1.shape)\n",
    "cv2.imwrite('output_image/turtle.png', img1)"
   ]
  },
  {
   "cell_type": "code",
   "execution_count": 16,
   "metadata": {
    "collapsed": false
   },
   "outputs": [
    {
     "name": "stdout",
     "output_type": "stream",
     "text": [
      "(682, 1024)\n",
      "(682, 1024)\n"
     ]
    }
   ],
   "source": [
    "img2 = cv2.imread('input_image/turtle.jpg', cv2.IMREAD_GRAYSCALE)#保存为灰度图像\n",
    "print(img2.shape)\n",
    "cv2.imwrite('output_image/grayTurtle.jpg', img2)\n",
    "print(img2.shape)"
   ]
  },
  {
   "cell_type": "markdown",
   "metadata": {},
   "source": [
    "## 2.1.2图像与原始字节之间的转换   \n",
    "若一幅图像的每个通道为8位，则可以将其显示转换为标准的一维的bytearray格式：bytearray = bytearray(image)   \n",
    "反之，bytearray含有恰当的顺序的字节，可以通过显示转换得到array形式的图像：   \n",
    "grayImage = np.array(grayByteArray).reshape(height, width)   \n",
    "bgrImage = np.array(bgrByteArray).reshape(height,width,3)"
   ]
  },
  {
   "cell_type": "code",
   "execution_count": 17,
   "metadata": {
    "collapsed": true
   },
   "outputs": [],
   "source": [
    "import cv2\n",
    "import numpy as np\n",
    "import os"
   ]
  },
  {
   "cell_type": "code",
   "execution_count": 24,
   "metadata": {
    "collapsed": false
   },
   "outputs": [
    {
     "data": {
      "text/plain": [
       "True"
      ]
     },
     "execution_count": 24,
     "metadata": {},
     "output_type": "execute_result"
    }
   ],
   "source": [
    "randomByteArray = bytearray(os.urandom(120000))#生成一个120000的随机原始bytes，也可以用np.random.randint(0,256,120000)\n",
    "#print(randomByteArray)\n",
    "flatNumpyArray = np.array(randomByteArray)\n",
    "grayImage = flatNumpyArray.reshape(400,300)#转成一个400*300的灰度图像\n",
    "cv2.imwrite('output_image/RandomGray.png', grayImage)\n",
    "bgrImage = flatNumpyArray.reshape(100,400,3)#转成一个100*400的彩色图像\n",
    "cv2.imwrite('output_image/RandomColor.png', bgrImage)"
   ]
  },
  {
   "cell_type": "markdown",
   "metadata": {},
   "source": [
    "## 2.1.3使用np.array访问图像数据\n",
    "像素的访问：<b>image[0,0]</b>等价于<b>image.item((0,0))</b>;<b>image[0,0]=128</b>等价于<b>image.setitem((0,0),128)</b>"
   ]
  },
  {
   "cell_type": "code",
   "execution_count": 13,
   "metadata": {
    "collapsed": false
   },
   "outputs": [
    {
     "name": "stdout",
     "output_type": "stream",
     "text": [
      "151\n",
      "255\n"
     ]
    }
   ],
   "source": [
    "import cv2\n",
    "import numpy as np\n",
    "\n",
    "img3 = cv2.imread('input_image/turtle.jpg')\n",
    "print(img3.item(150,120,0))#这个位置的B像素的值\n",
    "img3.itemset((150,120,0),255)\n",
    "print(img3.item(150,120,0))"
   ]
  },
  {
   "cell_type": "code",
   "execution_count": 14,
   "metadata": {
    "collapsed": false
   },
   "outputs": [],
   "source": [
    "import matplotlib.pyplot as plt\n",
    "my_roi = img3[0:100,0:100]\n",
    "img3[300:400,300:400] = my_roi\n",
    "#plt.imshow(img3)\n",
    "#plt.show()\n",
    "cv2.imshow('image', img3)\n",
    "cv2.waitKey()\n",
    "cv2.destroyAllWindows()"
   ]
  },
  {
   "cell_type": "markdown",
   "metadata": {},
   "source": [
    "## 2.1.4视频文件的读/写\n",
    "opencv提供<b>VideoCapture</b>类和<b>VideoWriter</b>类来支持各种格式的视频文件，支持格式可能随着系统不同而改变，但一般都支持AVI格式。在到达视频文件末尾之前，VideoCapture类通过<b>read()</b>函数来获取新的帧，每一帧都是基于BGR格式的图像。可将一副图像传递给VideoWriter类的<b>write()</b>函数，该函数将这幅图像加载到VideoWriter类所指向的文件当中。下面是一些常用编码器选项：   \n",
    "cv2.VideoWriter_fourcc('I','4','2','0'):这是一个未压缩的YUV颜色编码，是4:2:0色度子采样。此编码有很好的兼容性，但产生的文件较大，扩展名是.avi,一个10几兆的视频生成出6.5个G。   \n",
    "cv2.VideoWriter_fourcc('P','I','M','1'):这是一个MPEG-1编码类型，扩展名是.avi。   \n",
    "cv2.VideoWriter_fourcc('X','V','I','D'):这是一个MPEG-4编码类型，得到的是视频大小的平均值，扩展名是.avi。   \n",
    "cv2.VideoWriter_fourcc('T','H','E','O'):这是Ogg Vorbis,扩展名是.avi。   \n",
    "cv2.VideoWriter_fourcc('F','L','V','1'):这是一个Flash视频，扩展名是.flv。   \n",
    "通过VideoCapture类的get()函数得到帧速率和帧大小，在复制视频的时候需要指定这些属性,一个10几兆的视频生成出50多兆。"
   ]
  },
  {
   "cell_type": "code",
   "execution_count": 11,
   "metadata": {
    "collapsed": false
   },
   "outputs": [],
   "source": [
    "import cv2\n",
    "videoR = cv2.VideoCapture('input_image/inputVideo.flv')\n",
    "fps = videoR.get(cv2.CAP_PROP_FPS)\n",
    "size = (int(videoR.get(cv2.CAP_PROP_FRAME_WIDTH)),int(videoR.get(cv2.CAP_PROP_FRAME_HEIGHT)))\n",
    "videoW = cv2.VideoWriter('output_image/outputVideo.flv',cv2.VideoWriter_fourcc('F','L','V','1'), fps, size)\n",
    "success,frame = videoR.read()\n",
    "while success:\n",
    "    videoW.write(frame)\n",
    "    success, frame = videoR.read()"
   ]
  },
  {
   "cell_type": "markdown",
   "metadata": {},
   "source": [
    "## 2.1.5捕获摄像头的帧\n"
   ]
  },
  {
   "cell_type": "markdown",
   "metadata": {},
   "source": [
    "## 2.1.6在窗口显示图像\n",
    "用<b>imshow()</b>函数来显示他图像，他有两个参数显示图像的帧名称和要显示的图像本身，调用<b>destroyAllWindows()</b>可释放由openCV创建的所有窗口"
   ]
  },
  {
   "cell_type": "code",
   "execution_count": 12,
   "metadata": {
    "collapsed": true
   },
   "outputs": [],
   "source": [
    "import cv2\n",
    "import numpy as np\n",
    "img4 = cv2.imread('input_image/turtle.jpg')\n",
    "cv2.imshow('image', img4)\n",
    "cv2.waitKey()\n",
    "cv2.destroyAllWindows()"
   ]
  },
  {
   "cell_type": "code",
   "execution_count": null,
   "metadata": {
    "collapsed": true
   },
   "outputs": [],
   "source": []
  }
 ],
 "metadata": {
  "kernelspec": {
   "display_name": "Python 3",
   "language": "python",
   "name": "python3"
  },
  "language_info": {
   "codemirror_mode": {
    "name": "ipython",
    "version": 3
   },
   "file_extension": ".py",
   "mimetype": "text/x-python",
   "name": "python",
   "nbconvert_exporter": "python",
   "pygments_lexer": "ipython3",
   "version": "3.6.0"
  }
 },
 "nbformat": 4,
 "nbformat_minor": 2
}
