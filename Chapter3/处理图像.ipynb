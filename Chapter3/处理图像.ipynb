{
 "cells": [
  {
   "cell_type": "markdown",
   "metadata": {},
   "source": [
    "# 3.1不同色彩空间的转换\n",
    "当前，计算机视觉中有三种常用的色彩空间：灰度、BGR以及HSV(Hue, Saturation, Value)   \n",
    "* 灰度色彩是去除彩色学习将其转换成灰阶的，灰度色彩空间对中间处理特别有效，比如<b>人脸检测</b>   \n",
    "* BGR   \n",
    "* HSV：H(Hue)色调、S(Saturation)饱和度、V(Value)黑暗的程度（或光谱另一端的明亮程度）"
   ]
  },
  {
   "cell_type": "markdown",
   "metadata": {},
   "source": [
    "# 3.2傅里叶变换\n",
    "numpy包中有快速傅里叶变换（FFT）的包，它包含<b>fft2()</b>函数，该函数可以计算一幅图像的离散傅里叶变换(DFT)   \n",
    "<b>图像的幅度谱</b>（magnitude spectrum）,图像的幅度谱是另一种图像，幅度谱图像呈现了原始图像在变化方面的一种表示：把一幅图像中最明亮的像素放到图像的中央，然后逐渐变暗，边缘上的像素最暗。这样可以发现图像中有多少亮的像素和暗的像素，以及他们分布的百分比。   \n",
    "傅里叶变换是许多常见图像操作的基础，比如边缘检测和形状检测。\n",
    "\n",
    "## 3.2.1高通滤波器\n",
    "高通滤波器（HPF）是检测图像的某个区域，然后根据像素与周围像素的亮度差值来提升(boost)该像素的亮度的滤波器。如以下的核（滤波器矩阵）   \n",
    "[[0, -0.25, 0],   \n",
    " [-0.25, 1, -0.25],   \n",
    " [0, -0.25, 0]]"
   ]
  },
  {
   "cell_type": "code",
   "execution_count": null,
   "metadata": {
    "collapsed": true
   },
   "outputs": [],
   "source": []
  }
 ],
 "metadata": {
  "kernelspec": {
   "display_name": "Python 3",
   "language": "python",
   "name": "python3"
  },
  "language_info": {
   "codemirror_mode": {
    "name": "ipython",
    "version": 3
   },
   "file_extension": ".py",
   "mimetype": "text/x-python",
   "name": "python",
   "nbconvert_exporter": "python",
   "pygments_lexer": "ipython3",
   "version": "3.6.0"
  }
 },
 "nbformat": 4,
 "nbformat_minor": 2
}
